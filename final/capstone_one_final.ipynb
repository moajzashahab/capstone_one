{
 "cells": [
  {
   "cell_type": "markdown",
   "metadata": {},
   "source": [
    "# New York State and the Opioid Crisis \n",
    "***\n",
    "According to the CDC, 115 people die in the US per day due to an opioid overdose and since 1999 more than half a million people have died from an opioid overdose __[(1)](https://www.cdc.gov/drugoverdose/epidemic/index.html)__. In New York State the age adjusted rate of death per 100,000 from an opioid overdose was 15.1 compared to the national rate of 13.3 in 2016 __[(2)](https://www.drugabuse.gov/drugs-abuse/opioids/opioid-summaries-by-state/new-york-opioid-summary)__. The opioid crisis is one of the worst contemporaneous health crisis only rivaled by the AIDS epidemic of the 1990s __[(3)](https://www.ncbi.nlm.nih.gov/pmc/articles/PMC5517310/)__. Outside of the high number of overdose deaths due to opioids, there is an increase in people with substance abuse disorder involving the abuse of opioids. The rates of infection from HIV, Hepatitis C and B have also increased, mostly likely due to the needle usage associated with opioid abuse __[(4)](https://www.kff.org/hivaids/issue-brief/hiv-and-the-opioid-epidemic-5-key-points/)__. New York State, as mentioned above, is one of the places with the highest rates of deaths due to opioids and has an open data site. This makes it possible to try and explore the relationship that may exist between opioid abuse and other factors like socioeconomics, crimes, and government investment. "
   ]
  },
  {
   "cell_type": "code",
   "execution_count": 139,
   "metadata": {},
   "outputs": [],
   "source": [
    "#load libraries\n",
    "%matplotlib inline \n",
    "\n",
    "import sklearn\n",
    "import numpy as np\n",
    "import pandas as pd\n",
    "import seaborn as sns\n",
    "from matplotlib import rcParams\n",
    "import matplotlib.pyplot as plt\n",
    "from sklearn.tree import DecisionTreeRegressor\n",
    "from sklearn.linear_model import LinearRegression\n",
    "from sklearn.ensemble import RandomForestRegressor\n",
    "from sklearn.ensemble import GradientBoostingRegressor\n",
    "from sklearn.model_selection import train_test_split"
   ]
  },
  {
   "cell_type": "markdown",
   "metadata": {},
   "source": [
    "The first data set that we will be working from can be found __[here](https://health.data.ny.gov/Health/All-Payer-Opioid-Related-Facility-Visits-in-New-Yo/rxm6-fp54)__. The data set includes information about impatient discharges and outpatient visits related to opioids. There’s specific information available about insurance providers and specific types of visits. We’re  going to extract out county, year, and overall rate from the data set to help simplify our analysis. "
   ]
  },
  {
   "cell_type": "code",
   "execution_count": 140,
   "metadata": {},
   "outputs": [
    {
     "data": {
      "text/html": [
       "<div>\n",
       "<style scoped>\n",
       "    .dataframe tbody tr th:only-of-type {\n",
       "        vertical-align: middle;\n",
       "    }\n",
       "\n",
       "    .dataframe tbody tr th {\n",
       "        vertical-align: top;\n",
       "    }\n",
       "\n",
       "    .dataframe thead th {\n",
       "        text-align: right;\n",
       "    }\n",
       "</style>\n",
       "<table border=\"1\" class=\"dataframe\">\n",
       "  <thead>\n",
       "    <tr style=\"text-align: right;\">\n",
       "      <th></th>\n",
       "      <th>Year</th>\n",
       "      <th>County</th>\n",
       "      <th>Overall Opioid Rate Per 1000</th>\n",
       "    </tr>\n",
       "  </thead>\n",
       "  <tbody>\n",
       "    <tr>\n",
       "      <th>0</th>\n",
       "      <td>2010</td>\n",
       "      <td>Albany</td>\n",
       "      <td>0.405</td>\n",
       "    </tr>\n",
       "    <tr>\n",
       "      <th>1</th>\n",
       "      <td>2011</td>\n",
       "      <td>Albany</td>\n",
       "      <td>0.476</td>\n",
       "    </tr>\n",
       "    <tr>\n",
       "      <th>2</th>\n",
       "      <td>2012</td>\n",
       "      <td>Albany</td>\n",
       "      <td>0.533</td>\n",
       "    </tr>\n",
       "    <tr>\n",
       "      <th>3</th>\n",
       "      <td>2013</td>\n",
       "      <td>Albany</td>\n",
       "      <td>0.343</td>\n",
       "    </tr>\n",
       "    <tr>\n",
       "      <th>4</th>\n",
       "      <td>2014</td>\n",
       "      <td>Albany</td>\n",
       "      <td>0.331</td>\n",
       "    </tr>\n",
       "  </tbody>\n",
       "</table>\n",
       "</div>"
      ],
      "text/plain": [
       "   Year  County  Overall Opioid Rate Per 1000\n",
       "0  2010  Albany                         0.405\n",
       "1  2011  Albany                         0.476\n",
       "2  2012  Albany                         0.533\n",
       "3  2013  Albany                         0.343\n",
       "4  2014  Albany                         0.331"
      ]
     },
     "execution_count": 140,
     "metadata": {},
     "output_type": "execute_result"
    }
   ],
   "source": [
    "#importing and cleaning data\n",
    "df1 = pd.read_csv('data.csv')\n",
    "\n",
    "cols =['Year', 'Patient County Name', 'Overall Rate Per 1000']\n",
    "\n",
    "df1 = df1.loc[:, cols]\n",
    "df1= df1.rename(index=str, columns={'Patient County Name': 'County', 'Overall Rate Per 1000' : 'Overall Opioid Rate Per 1000'})\n",
    "\n",
    "df1.head()"
   ]
  },
  {
   "cell_type": "markdown",
   "metadata": {},
   "source": [
    "We are now going to add in the number of opioid  overdose deaths per county to our table using the dataset found __[here](https://health.data.ny.gov/Health/Vital-Statistics-Opioid-Related-Deaths-by-County-B/sn5m-dv52)__. "
   ]
  },
  {
   "cell_type": "code",
   "execution_count": 141,
   "metadata": {},
   "outputs": [
    {
     "data": {
      "text/html": [
       "<div>\n",
       "<style scoped>\n",
       "    .dataframe tbody tr th:only-of-type {\n",
       "        vertical-align: middle;\n",
       "    }\n",
       "\n",
       "    .dataframe tbody tr th {\n",
       "        vertical-align: top;\n",
       "    }\n",
       "\n",
       "    .dataframe thead th {\n",
       "        text-align: right;\n",
       "    }\n",
       "</style>\n",
       "<table border=\"1\" class=\"dataframe\">\n",
       "  <thead>\n",
       "    <tr style=\"text-align: right;\">\n",
       "      <th></th>\n",
       "      <th>Year</th>\n",
       "      <th>County</th>\n",
       "      <th>Opioid Poisoning Deaths</th>\n",
       "    </tr>\n",
       "  </thead>\n",
       "  <tbody>\n",
       "    <tr>\n",
       "      <th>0</th>\n",
       "      <td>2015</td>\n",
       "      <td>Albany</td>\n",
       "      <td>31</td>\n",
       "    </tr>\n",
       "    <tr>\n",
       "      <th>1</th>\n",
       "      <td>2015</td>\n",
       "      <td>Allegany</td>\n",
       "      <td>6</td>\n",
       "    </tr>\n",
       "    <tr>\n",
       "      <th>2</th>\n",
       "      <td>2015</td>\n",
       "      <td>Bronx</td>\n",
       "      <td>177</td>\n",
       "    </tr>\n",
       "    <tr>\n",
       "      <th>3</th>\n",
       "      <td>2015</td>\n",
       "      <td>Broome</td>\n",
       "      <td>29</td>\n",
       "    </tr>\n",
       "    <tr>\n",
       "      <th>4</th>\n",
       "      <td>2015</td>\n",
       "      <td>Cattaraugus</td>\n",
       "      <td>11</td>\n",
       "    </tr>\n",
       "  </tbody>\n",
       "</table>\n",
       "</div>"
      ],
      "text/plain": [
       "   Year       County  Opioid Poisoning Deaths\n",
       "0  2015       Albany                       31\n",
       "1  2015     Allegany                        6\n",
       "2  2015        Bronx                      177\n",
       "3  2015       Broome                       29\n",
       "4  2015  Cattaraugus                       11"
      ]
     },
     "execution_count": 141,
     "metadata": {},
     "output_type": "execute_result"
    }
   ],
   "source": [
    "df2 = pd.read_csv('data2.csv')\n",
    "\n",
    "df3 = pd.merge(df1, df2, how='inner', on=['Year', 'County'])\n",
    "df3 = df3.pivot_table(df3, index=['Year', 'County'], aggfunc='sum')\n",
    "df3['Opioid Poisoning Deaths'] = df3['Opioid Poisoning Deaths'].div(5)\n",
    "df3 = df3.reset_index()\n",
    "\n",
    "df2.head()"
   ]
  },
  {
   "cell_type": "markdown",
   "metadata": {},
   "source": [
    "Now that we have our opioid related data we can add in data related to other variables whose relationship with the opioid addiction crisis we want to explore. One relevant variable to look at would be crime rates due to the criminalization of drug use in most of the United States, including New York. Using the data found __[here](https://data.ny.gov/Public-Safety/Index-Violent-Property-and-Firearm-Rates-By-County/34dd-6g2j)__ we can add in county level crime counts to our dataset."
   ]
  },
  {
   "cell_type": "code",
   "execution_count": 142,
   "metadata": {},
   "outputs": [
    {
     "data": {
      "text/html": [
       "<div>\n",
       "<style scoped>\n",
       "    .dataframe tbody tr th:only-of-type {\n",
       "        vertical-align: middle;\n",
       "    }\n",
       "\n",
       "    .dataframe tbody tr th {\n",
       "        vertical-align: top;\n",
       "    }\n",
       "\n",
       "    .dataframe thead th {\n",
       "        text-align: right;\n",
       "    }\n",
       "</style>\n",
       "<table border=\"1\" class=\"dataframe\">\n",
       "  <thead>\n",
       "    <tr style=\"text-align: right;\">\n",
       "      <th></th>\n",
       "      <th>Year</th>\n",
       "      <th>County</th>\n",
       "      <th>Crime Rate Per 100000</th>\n",
       "      <th>Opioid Poisoning Deaths</th>\n",
       "      <th>Overall Opioid Rate Per 1000</th>\n",
       "    </tr>\n",
       "  </thead>\n",
       "  <tbody>\n",
       "    <tr>\n",
       "      <th>0</th>\n",
       "      <td>2010</td>\n",
       "      <td>Albany</td>\n",
       "      <td>3737.6</td>\n",
       "      <td>15.0</td>\n",
       "      <td>2.978</td>\n",
       "    </tr>\n",
       "    <tr>\n",
       "      <th>1</th>\n",
       "      <td>2010</td>\n",
       "      <td>Allegany</td>\n",
       "      <td>1732.9</td>\n",
       "      <td>3.0</td>\n",
       "      <td>3.624</td>\n",
       "    </tr>\n",
       "    <tr>\n",
       "      <th>2</th>\n",
       "      <td>2010</td>\n",
       "      <td>Bronx</td>\n",
       "      <td>2450.2</td>\n",
       "      <td>37.0</td>\n",
       "      <td>2.122</td>\n",
       "    </tr>\n",
       "    <tr>\n",
       "      <th>3</th>\n",
       "      <td>2010</td>\n",
       "      <td>Broome</td>\n",
       "      <td>3234.6</td>\n",
       "      <td>10.0</td>\n",
       "      <td>3.053</td>\n",
       "    </tr>\n",
       "    <tr>\n",
       "      <th>4</th>\n",
       "      <td>2010</td>\n",
       "      <td>Cattaraugus</td>\n",
       "      <td>2635.7</td>\n",
       "      <td>1.0</td>\n",
       "      <td>1.654</td>\n",
       "    </tr>\n",
       "  </tbody>\n",
       "</table>\n",
       "</div>"
      ],
      "text/plain": [
       "   Year       County  Crime Rate Per 100000  Opioid Poisoning Deaths  \\\n",
       "0  2010       Albany                 3737.6                     15.0   \n",
       "1  2010     Allegany                 1732.9                      3.0   \n",
       "2  2010        Bronx                 2450.2                     37.0   \n",
       "3  2010       Broome                 3234.6                     10.0   \n",
       "4  2010  Cattaraugus                 2635.7                      1.0   \n",
       "\n",
       "   Overall Opioid Rate Per 1000  \n",
       "0                         2.978  \n",
       "1                         3.624  \n",
       "2                         2.122  \n",
       "3                         3.053  \n",
       "4                         1.654  "
      ]
     },
     "execution_count": 142,
     "metadata": {},
     "output_type": "execute_result"
    }
   ],
   "source": [
    "df4 = pd.read_csv('data3.csv')\n",
    "\n",
    "cols2 = ['Year', 'County', 'Index Rate']\n",
    "\n",
    "df4 = df4.loc[:, cols2]\n",
    "df4 = df4.rename(index=str, columns={'Index Rate' : 'Crime Rate Per 100000'})\n",
    "df4 = df4.merge(df3, how='inner', on=['Year', 'County'])\n",
    "\n",
    "cols3= ['Year', 'County', 'Crime Rate Per 100000', 'Opioid Poisoning Deaths', \n",
    "        'Overall Opioid Rate Per 1000']\n",
    "\n",
    "df4 = df4.loc[:, cols3]\n",
    "\n",
    "df4.head()"
   ]
  },
  {
   "cell_type": "markdown",
   "metadata": {},
   "source": [
    "Another variable to explore would be socioeconomic status of different counties. Many of the cultural stereotypes of substance abuse tend to portray those with substance abuse problems as being less well off financially. Much of the research and coverage of the opioid epidemic has also explored the relationship between socioeconomic situation, social mobility, and economic opportunity__[(5)](https://www.ncadd.org/blogs/addiction-update/what-s-behind-the-addiction-crisis-in-rural-america)__ __[(6)](https://aspe.hhs.gov/system/files/pdf/259261/ASPEEconomicOpportunityOpioidCrisis.pdf)__ __[(7)](https://ajph.aphapublications.org/doi/pdf/10.2105/AJPH.2017.304187)__.  Though there is no data available breaking down earning levels per county we can use information on recipients of SNAP, supplemental nutrition assistance program, and unemployment as a proxy. The number of SNAP beneficiaries can provide us with a measurement for the amount of people in the community below a certain earning threshold. The data for the number of SNAP recipients by county can be found __[here](https://data.ny.gov/Human-Services/Supplemental-Nutrition-Assistance-Program-SNAP-Cas/dq6j-8u8z)__."
   ]
  },
  {
   "cell_type": "code",
   "execution_count": 143,
   "metadata": {},
   "outputs": [
    {
     "data": {
      "text/html": [
       "<div>\n",
       "<style scoped>\n",
       "    .dataframe tbody tr th:only-of-type {\n",
       "        vertical-align: middle;\n",
       "    }\n",
       "\n",
       "    .dataframe tbody tr th {\n",
       "        vertical-align: top;\n",
       "    }\n",
       "\n",
       "    .dataframe thead th {\n",
       "        text-align: right;\n",
       "    }\n",
       "</style>\n",
       "<table border=\"1\" class=\"dataframe\">\n",
       "  <thead>\n",
       "    <tr style=\"text-align: right;\">\n",
       "      <th></th>\n",
       "      <th>Year</th>\n",
       "      <th>County</th>\n",
       "      <th>Crime Rate Per 100000</th>\n",
       "      <th>Opioid Poisoning Deaths</th>\n",
       "      <th>Overall Opioid Rate Per 1000</th>\n",
       "      <th>Total SNAP Persons</th>\n",
       "    </tr>\n",
       "  </thead>\n",
       "  <tbody>\n",
       "    <tr>\n",
       "      <th>0</th>\n",
       "      <td>2010</td>\n",
       "      <td>Albany</td>\n",
       "      <td>3737.6</td>\n",
       "      <td>15.0</td>\n",
       "      <td>2.978</td>\n",
       "      <td>375465</td>\n",
       "    </tr>\n",
       "    <tr>\n",
       "      <th>1</th>\n",
       "      <td>2010</td>\n",
       "      <td>Allegany</td>\n",
       "      <td>1732.9</td>\n",
       "      <td>3.0</td>\n",
       "      <td>3.624</td>\n",
       "      <td>75199</td>\n",
       "    </tr>\n",
       "    <tr>\n",
       "      <th>2</th>\n",
       "      <td>2010</td>\n",
       "      <td>Broome</td>\n",
       "      <td>3234.6</td>\n",
       "      <td>10.0</td>\n",
       "      <td>3.053</td>\n",
       "      <td>335380</td>\n",
       "    </tr>\n",
       "    <tr>\n",
       "      <th>3</th>\n",
       "      <td>2010</td>\n",
       "      <td>Cattaraugus</td>\n",
       "      <td>2635.7</td>\n",
       "      <td>1.0</td>\n",
       "      <td>1.654</td>\n",
       "      <td>123300</td>\n",
       "    </tr>\n",
       "    <tr>\n",
       "      <th>4</th>\n",
       "      <td>2010</td>\n",
       "      <td>Cayuga</td>\n",
       "      <td>2251.3</td>\n",
       "      <td>7.0</td>\n",
       "      <td>2.838</td>\n",
       "      <td>115042</td>\n",
       "    </tr>\n",
       "  </tbody>\n",
       "</table>\n",
       "</div>"
      ],
      "text/plain": [
       "   Year       County  Crime Rate Per 100000  Opioid Poisoning Deaths  \\\n",
       "0  2010       Albany                 3737.6                     15.0   \n",
       "1  2010     Allegany                 1732.9                      3.0   \n",
       "2  2010       Broome                 3234.6                     10.0   \n",
       "3  2010  Cattaraugus                 2635.7                      1.0   \n",
       "4  2010       Cayuga                 2251.3                      7.0   \n",
       "\n",
       "   Overall Opioid Rate Per 1000  Total SNAP Persons  \n",
       "0                         2.978              375465  \n",
       "1                         3.624               75199  \n",
       "2                         3.053              335380  \n",
       "3                         1.654              123300  \n",
       "4                         2.838              115042  "
      ]
     },
     "execution_count": 143,
     "metadata": {},
     "output_type": "execute_result"
    }
   ],
   "source": [
    "df5 = pd.read_csv('data4.csv')\n",
    "\n",
    "cols4 = ['Year', 'Month', 'District', 'Total SNAP Persons']\n",
    "\n",
    "df5 = df5.loc[:, cols4]\n",
    "df5 = df5.pivot_table(df5, index=['Year', 'District'], aggfunc='sum')\n",
    "df5 = df5.reset_index()\n",
    "df5 = df5.rename(index=str, columns={'District' : 'County'})\n",
    "df5 = df4.merge(df5, how='inner', on=['Year', 'County'])\n",
    "\n",
    "df5.head()"
   ]
  },
  {
   "cell_type": "markdown",
   "metadata": {},
   "source": [
    "Data for the number of unemployement beneficiaries can be found __[here](https://data.ny.gov/Economic-Development/Unemployment-Insurance-Beneficiaries-and-Benefit-A/xbjp-8sra)__. Along with being a proxy for socioeconomic status of a county, unemployment can also be an indirect measure for exploring the relationship between lack of economic opportunity. "
   ]
  },
  {
   "cell_type": "code",
   "execution_count": 144,
   "metadata": {},
   "outputs": [
    {
     "data": {
      "text/html": [
       "<div>\n",
       "<style scoped>\n",
       "    .dataframe tbody tr th:only-of-type {\n",
       "        vertical-align: middle;\n",
       "    }\n",
       "\n",
       "    .dataframe tbody tr th {\n",
       "        vertical-align: top;\n",
       "    }\n",
       "\n",
       "    .dataframe thead th {\n",
       "        text-align: right;\n",
       "    }\n",
       "</style>\n",
       "<table border=\"1\" class=\"dataframe\">\n",
       "  <thead>\n",
       "    <tr style=\"text-align: right;\">\n",
       "      <th></th>\n",
       "      <th>Year</th>\n",
       "      <th>County</th>\n",
       "      <th>Crime Rate Per 100000</th>\n",
       "      <th>Opioid Poisoning Deaths</th>\n",
       "      <th>Overall Opioid Rate Per 1000</th>\n",
       "      <th>Total SNAP Persons</th>\n",
       "      <th>Total Unemployment Beneficiaries</th>\n",
       "    </tr>\n",
       "  </thead>\n",
       "  <tbody>\n",
       "    <tr>\n",
       "      <th>0</th>\n",
       "      <td>2010</td>\n",
       "      <td>Albany</td>\n",
       "      <td>3737.6</td>\n",
       "      <td>15.0</td>\n",
       "      <td>2.978</td>\n",
       "      <td>375465</td>\n",
       "      <td>46000</td>\n",
       "    </tr>\n",
       "    <tr>\n",
       "      <th>1</th>\n",
       "      <td>2010</td>\n",
       "      <td>Allegany</td>\n",
       "      <td>1732.9</td>\n",
       "      <td>3.0</td>\n",
       "      <td>3.624</td>\n",
       "      <td>75199</td>\n",
       "      <td>10600</td>\n",
       "    </tr>\n",
       "    <tr>\n",
       "      <th>2</th>\n",
       "      <td>2010</td>\n",
       "      <td>Broome</td>\n",
       "      <td>3234.6</td>\n",
       "      <td>10.0</td>\n",
       "      <td>3.053</td>\n",
       "      <td>335380</td>\n",
       "      <td>41400</td>\n",
       "    </tr>\n",
       "    <tr>\n",
       "      <th>3</th>\n",
       "      <td>2010</td>\n",
       "      <td>Cattaraugus</td>\n",
       "      <td>2635.7</td>\n",
       "      <td>1.0</td>\n",
       "      <td>1.654</td>\n",
       "      <td>123300</td>\n",
       "      <td>21500</td>\n",
       "    </tr>\n",
       "    <tr>\n",
       "      <th>4</th>\n",
       "      <td>2010</td>\n",
       "      <td>Cayuga</td>\n",
       "      <td>2251.3</td>\n",
       "      <td>7.0</td>\n",
       "      <td>2.838</td>\n",
       "      <td>115042</td>\n",
       "      <td>18300</td>\n",
       "    </tr>\n",
       "  </tbody>\n",
       "</table>\n",
       "</div>"
      ],
      "text/plain": [
       "   Year       County  Crime Rate Per 100000  Opioid Poisoning Deaths  \\\n",
       "0  2010       Albany                 3737.6                     15.0   \n",
       "1  2010     Allegany                 1732.9                      3.0   \n",
       "2  2010       Broome                 3234.6                     10.0   \n",
       "3  2010  Cattaraugus                 2635.7                      1.0   \n",
       "4  2010       Cayuga                 2251.3                      7.0   \n",
       "\n",
       "   Overall Opioid Rate Per 1000  Total SNAP Persons  \\\n",
       "0                         2.978              375465   \n",
       "1                         3.624               75199   \n",
       "2                         3.053              335380   \n",
       "3                         1.654              123300   \n",
       "4                         2.838              115042   \n",
       "\n",
       "   Total Unemployment Beneficiaries  \n",
       "0                             46000  \n",
       "1                             10600  \n",
       "2                             41400  \n",
       "3                             21500  \n",
       "4                             18300  "
      ]
     },
     "execution_count": 144,
     "metadata": {},
     "output_type": "execute_result"
    }
   ],
   "source": [
    "df6 = pd.read_csv('data5.csv')\n",
    "\n",
    "cols5 = ['Year', 'Month', 'County', 'Beneficiaries']\n",
    "\n",
    "df6 = df6.loc[:, cols5]\n",
    "df6 = df6.pivot_table(df6, index=['Year', 'County'], aggfunc='sum')\n",
    "\n",
    "cols6 = ['Year', 'County', 'Beneficiaries']\n",
    "\n",
    "df6 = df6.reset_index()\n",
    "df6 = df6.loc[:, cols6]\n",
    "df6 = df5.merge(df6, how='inner', on=['Year', 'County'])\n",
    "df6 = df6.rename(index=str, columns={'Beneficiaries' : 'Total Unemployment Beneficiaries'})\n",
    "\n",
    "df6.head()"
   ]
  },
  {
   "cell_type": "markdown",
   "metadata": {},
   "source": [
    "Another way to indirectly look at the possible relationship between economic opportunity and the opioid crisis using the data available to us would be to look at the amount of government funding provided to counties. Data for the block grant alotment per county can be found __[here](https://data.ny.gov/Economic-Development/Community-Development-Block-Grant-CDBG-Contracts/n9bu-8eic)__. "
   ]
  },
  {
   "cell_type": "code",
   "execution_count": 145,
   "metadata": {},
   "outputs": [
    {
     "data": {
      "text/html": [
       "<div>\n",
       "<style scoped>\n",
       "    .dataframe tbody tr th:only-of-type {\n",
       "        vertical-align: middle;\n",
       "    }\n",
       "\n",
       "    .dataframe tbody tr th {\n",
       "        vertical-align: top;\n",
       "    }\n",
       "\n",
       "    .dataframe thead th {\n",
       "        text-align: right;\n",
       "    }\n",
       "</style>\n",
       "<table border=\"1\" class=\"dataframe\">\n",
       "  <thead>\n",
       "    <tr style=\"text-align: right;\">\n",
       "      <th></th>\n",
       "      <th>Year</th>\n",
       "      <th>County</th>\n",
       "      <th>Crime Rate Per 100000</th>\n",
       "      <th>Opioid Poisoning Deaths</th>\n",
       "      <th>Overall Opioid Rate Per 1000</th>\n",
       "      <th>Total SNAP Persons</th>\n",
       "      <th>Total Unemployment Beneficiaries</th>\n",
       "      <th>Total Block Grant</th>\n",
       "    </tr>\n",
       "  </thead>\n",
       "  <tbody>\n",
       "    <tr>\n",
       "      <th>0</th>\n",
       "      <td>2010</td>\n",
       "      <td>Albany</td>\n",
       "      <td>3737.6</td>\n",
       "      <td>15.0</td>\n",
       "      <td>2.978</td>\n",
       "      <td>375465</td>\n",
       "      <td>46000</td>\n",
       "      <td>1251000</td>\n",
       "    </tr>\n",
       "    <tr>\n",
       "      <th>1</th>\n",
       "      <td>2010</td>\n",
       "      <td>Allegany</td>\n",
       "      <td>1732.9</td>\n",
       "      <td>3.0</td>\n",
       "      <td>3.624</td>\n",
       "      <td>75199</td>\n",
       "      <td>10600</td>\n",
       "      <td>872300</td>\n",
       "    </tr>\n",
       "    <tr>\n",
       "      <th>2</th>\n",
       "      <td>2010</td>\n",
       "      <td>Broome</td>\n",
       "      <td>3234.6</td>\n",
       "      <td>10.0</td>\n",
       "      <td>3.053</td>\n",
       "      <td>335380</td>\n",
       "      <td>41400</td>\n",
       "      <td>800000</td>\n",
       "    </tr>\n",
       "    <tr>\n",
       "      <th>3</th>\n",
       "      <td>2010</td>\n",
       "      <td>Cattaraugus</td>\n",
       "      <td>2635.7</td>\n",
       "      <td>1.0</td>\n",
       "      <td>1.654</td>\n",
       "      <td>123300</td>\n",
       "      <td>21500</td>\n",
       "      <td>626000</td>\n",
       "    </tr>\n",
       "    <tr>\n",
       "      <th>4</th>\n",
       "      <td>2010</td>\n",
       "      <td>Cayuga</td>\n",
       "      <td>2251.3</td>\n",
       "      <td>7.0</td>\n",
       "      <td>2.838</td>\n",
       "      <td>115042</td>\n",
       "      <td>18300</td>\n",
       "      <td>400000</td>\n",
       "    </tr>\n",
       "  </tbody>\n",
       "</table>\n",
       "</div>"
      ],
      "text/plain": [
       "   Year       County  Crime Rate Per 100000  Opioid Poisoning Deaths  \\\n",
       "0  2010       Albany                 3737.6                     15.0   \n",
       "1  2010     Allegany                 1732.9                      3.0   \n",
       "2  2010       Broome                 3234.6                     10.0   \n",
       "3  2010  Cattaraugus                 2635.7                      1.0   \n",
       "4  2010       Cayuga                 2251.3                      7.0   \n",
       "\n",
       "   Overall Opioid Rate Per 1000  Total SNAP Persons  \\\n",
       "0                         2.978              375465   \n",
       "1                         3.624               75199   \n",
       "2                         3.053              335380   \n",
       "3                         1.654              123300   \n",
       "4                         2.838              115042   \n",
       "\n",
       "   Total Unemployment Beneficiaries  Total Block Grant  \n",
       "0                             46000            1251000  \n",
       "1                             10600             872300  \n",
       "2                             41400             800000  \n",
       "3                             21500             626000  \n",
       "4                             18300             400000  "
      ]
     },
     "execution_count": 145,
     "metadata": {},
     "output_type": "execute_result"
    }
   ],
   "source": [
    "df7 = pd.read_csv('data6.csv')\n",
    "\n",
    "cols7 = ['Project Year', 'Contract Amount', 'County']\n",
    "\n",
    "df7 = df7.loc[:, cols7]\n",
    "df7 = df7.pivot_table(df7, index=['Project Year', 'County'], aggfunc='sum')\n",
    "df7 = df7.reset_index()\n",
    "df7 = df7.rename(index=str, columns= {'Project Year' : 'Year', 'Contract Amount' : 'Total Block Grant'})\n",
    "df7 = df6.merge(df7, how='inner', on=['Year', 'County'])\n",
    "\n",
    "df7.head()"
   ]
  },
  {
   "cell_type": "markdown",
   "metadata": {},
   "source": [
    "Another potential measure we can use to explore the relationship between government investment or availability of treatment is to look at the number of health facilities operating in a county. Data of certified health facilities by county can be found __[here](https://health.data.ny.gov/Health/Health-Facility-Certification-Information/2g9y-7kqm)__. The data here lists facilities by name and year they opened so we have to do a little bit more processing to get the number of health facilities operating in each county by year. "
   ]
  },
  {
   "cell_type": "code",
   "execution_count": 146,
   "metadata": {},
   "outputs": [
    {
     "data": {
      "text/html": [
       "<div>\n",
       "<style scoped>\n",
       "    .dataframe tbody tr th:only-of-type {\n",
       "        vertical-align: middle;\n",
       "    }\n",
       "\n",
       "    .dataframe tbody tr th {\n",
       "        vertical-align: top;\n",
       "    }\n",
       "\n",
       "    .dataframe thead th {\n",
       "        text-align: right;\n",
       "    }\n",
       "</style>\n",
       "<table border=\"1\" class=\"dataframe\">\n",
       "  <thead>\n",
       "    <tr style=\"text-align: right;\">\n",
       "      <th></th>\n",
       "      <th>Facility Name</th>\n",
       "      <th>County</th>\n",
       "      <th>Effective Date</th>\n",
       "      <th>Year</th>\n",
       "    </tr>\n",
       "  </thead>\n",
       "  <tbody>\n",
       "    <tr>\n",
       "      <th>0</th>\n",
       "      <td>Albany Medical Center Hospital</td>\n",
       "      <td>Albany</td>\n",
       "      <td>1988-03-21</td>\n",
       "      <td>1988</td>\n",
       "    </tr>\n",
       "    <tr>\n",
       "      <th>1</th>\n",
       "      <td>Albany Medical Center Hospital</td>\n",
       "      <td>Albany</td>\n",
       "      <td>1994-01-18</td>\n",
       "      <td>1994</td>\n",
       "    </tr>\n",
       "    <tr>\n",
       "      <th>2</th>\n",
       "      <td>Albany Medical Center Hospital</td>\n",
       "      <td>Albany</td>\n",
       "      <td>1980-02-01</td>\n",
       "      <td>1980</td>\n",
       "    </tr>\n",
       "    <tr>\n",
       "      <th>3</th>\n",
       "      <td>Albany Medical Center Hospital</td>\n",
       "      <td>Albany</td>\n",
       "      <td>2013-08-19</td>\n",
       "      <td>2013</td>\n",
       "    </tr>\n",
       "    <tr>\n",
       "      <th>4</th>\n",
       "      <td>Albany Medical Center Hospital</td>\n",
       "      <td>Albany</td>\n",
       "      <td>1980-02-01</td>\n",
       "      <td>1980</td>\n",
       "    </tr>\n",
       "  </tbody>\n",
       "</table>\n",
       "</div>"
      ],
      "text/plain": [
       "                    Facility Name  County Effective Date  Year\n",
       "0  Albany Medical Center Hospital  Albany     1988-03-21  1988\n",
       "1  Albany Medical Center Hospital  Albany     1994-01-18  1994\n",
       "2  Albany Medical Center Hospital  Albany     1980-02-01  1980\n",
       "3  Albany Medical Center Hospital  Albany     2013-08-19  2013\n",
       "4  Albany Medical Center Hospital  Albany     1980-02-01  1980"
      ]
     },
     "execution_count": 146,
     "metadata": {},
     "output_type": "execute_result"
    }
   ],
   "source": [
    "df8 = pd.read_csv('data7.csv')\n",
    "                  \n",
    "cols8 = ['Facility Name', 'County', 'Effective Date']\n",
    "\n",
    "df8 = df8.loc[:, cols8]\n",
    "df8['Effective Date'] = pd.to_datetime(df8['Effective Date'])\n",
    "df8['Year'] = df8['Effective Date'].dt.year\n",
    "\n",
    "df8.head()"
   ]
  },
  {
   "cell_type": "code",
   "execution_count": 147,
   "metadata": {},
   "outputs": [
    {
     "data": {
      "text/html": [
       "<div>\n",
       "<style scoped>\n",
       "    .dataframe tbody tr th:only-of-type {\n",
       "        vertical-align: middle;\n",
       "    }\n",
       "\n",
       "    .dataframe tbody tr th {\n",
       "        vertical-align: top;\n",
       "    }\n",
       "\n",
       "    .dataframe thead th {\n",
       "        text-align: right;\n",
       "    }\n",
       "</style>\n",
       "<table border=\"1\" class=\"dataframe\">\n",
       "  <thead>\n",
       "    <tr style=\"text-align: right;\">\n",
       "      <th></th>\n",
       "      <th>County</th>\n",
       "      <th>Total Facility Number</th>\n",
       "      <th>Year</th>\n",
       "    </tr>\n",
       "  </thead>\n",
       "  <tbody>\n",
       "    <tr>\n",
       "      <th>0</th>\n",
       "      <td>Albany</td>\n",
       "      <td>412</td>\n",
       "      <td>2010</td>\n",
       "    </tr>\n",
       "    <tr>\n",
       "      <th>1</th>\n",
       "      <td>Allegany</td>\n",
       "      <td>127</td>\n",
       "      <td>2010</td>\n",
       "    </tr>\n",
       "    <tr>\n",
       "      <th>2</th>\n",
       "      <td>Bronx</td>\n",
       "      <td>1976</td>\n",
       "      <td>2010</td>\n",
       "    </tr>\n",
       "    <tr>\n",
       "      <th>3</th>\n",
       "      <td>Broome</td>\n",
       "      <td>346</td>\n",
       "      <td>2010</td>\n",
       "    </tr>\n",
       "    <tr>\n",
       "      <th>4</th>\n",
       "      <td>Cattaraugus</td>\n",
       "      <td>159</td>\n",
       "      <td>2010</td>\n",
       "    </tr>\n",
       "  </tbody>\n",
       "</table>\n",
       "</div>"
      ],
      "text/plain": [
       "        County  Total Facility Number  Year\n",
       "0       Albany                    412  2010\n",
       "1     Allegany                    127  2010\n",
       "2        Bronx                   1976  2010\n",
       "3       Broome                    346  2010\n",
       "4  Cattaraugus                    159  2010"
      ]
     },
     "execution_count": 147,
     "metadata": {},
     "output_type": "execute_result"
    }
   ],
   "source": [
    "cols9 = ['Facility Name', 'County', 'Year']\n",
    "\n",
    "df8 = df8.loc[:, cols9]\n",
    "df8 = df8.pivot_table(df8, index=['Year', 'County'], aggfunc='count')\n",
    "df8 = df8.reset_index()\n",
    "df8 = df8.rename(index=str, columns= {'Facility Name' : 'Total Facility Number'})\n",
    "\n",
    "df9 = df8[df8['Year'] <= 2010]\n",
    "df9 = df9.pivot_table(df9, index=['County'], aggfunc='sum')\n",
    "df9['Year'] = 2010 \n",
    "df9 = df9.reset_index()\n",
    "\n",
    "df9.head()"
   ]
  },
  {
   "cell_type": "code",
   "execution_count": 148,
   "metadata": {},
   "outputs": [
    {
     "data": {
      "text/html": [
       "<div>\n",
       "<style scoped>\n",
       "    .dataframe tbody tr th:only-of-type {\n",
       "        vertical-align: middle;\n",
       "    }\n",
       "\n",
       "    .dataframe tbody tr th {\n",
       "        vertical-align: top;\n",
       "    }\n",
       "\n",
       "    .dataframe thead th {\n",
       "        text-align: right;\n",
       "    }\n",
       "</style>\n",
       "<table border=\"1\" class=\"dataframe\">\n",
       "  <thead>\n",
       "    <tr style=\"text-align: right;\">\n",
       "      <th></th>\n",
       "      <th>Year</th>\n",
       "      <th>County</th>\n",
       "      <th>Total Facility Number</th>\n",
       "    </tr>\n",
       "  </thead>\n",
       "  <tbody>\n",
       "    <tr>\n",
       "      <th>0</th>\n",
       "      <td>2011</td>\n",
       "      <td>Albany</td>\n",
       "      <td>429</td>\n",
       "    </tr>\n",
       "    <tr>\n",
       "      <th>1</th>\n",
       "      <td>2011</td>\n",
       "      <td>Bronx</td>\n",
       "      <td>2060</td>\n",
       "    </tr>\n",
       "    <tr>\n",
       "      <th>2</th>\n",
       "      <td>2011</td>\n",
       "      <td>Broome</td>\n",
       "      <td>357</td>\n",
       "    </tr>\n",
       "    <tr>\n",
       "      <th>3</th>\n",
       "      <td>2011</td>\n",
       "      <td>Cattaraugus</td>\n",
       "      <td>161</td>\n",
       "    </tr>\n",
       "    <tr>\n",
       "      <th>4</th>\n",
       "      <td>2011</td>\n",
       "      <td>Cayuga</td>\n",
       "      <td>124</td>\n",
       "    </tr>\n",
       "  </tbody>\n",
       "</table>\n",
       "</div>"
      ],
      "text/plain": [
       "   Year       County  Total Facility Number\n",
       "0  2011       Albany                    429\n",
       "1  2011        Bronx                   2060\n",
       "2  2011       Broome                    357\n",
       "3  2011  Cattaraugus                    161\n",
       "4  2011       Cayuga                    124"
      ]
     },
     "execution_count": 148,
     "metadata": {},
     "output_type": "execute_result"
    }
   ],
   "source": [
    "df_m = df9.loc[:, ['County', 'Total Facility Number']]\n",
    "\n",
    "df10 = df8[df8['Year'] == 2011]\n",
    "df10 = df10.merge(df_m, on='County')\n",
    "df10['Total Facility Number'] = df10['Total Facility Number_x'] + df10['Total Facility Number_y']\n",
    "df10 = df10.loc[:,['Year', 'County', 'Total Facility Number']]\n",
    "\n",
    "df10.head()"
   ]
  },
  {
   "cell_type": "code",
   "execution_count": 149,
   "metadata": {},
   "outputs": [
    {
     "data": {
      "text/html": [
       "<div>\n",
       "<style scoped>\n",
       "    .dataframe tbody tr th:only-of-type {\n",
       "        vertical-align: middle;\n",
       "    }\n",
       "\n",
       "    .dataframe tbody tr th {\n",
       "        vertical-align: top;\n",
       "    }\n",
       "\n",
       "    .dataframe thead th {\n",
       "        text-align: right;\n",
       "    }\n",
       "</style>\n",
       "<table border=\"1\" class=\"dataframe\">\n",
       "  <thead>\n",
       "    <tr style=\"text-align: right;\">\n",
       "      <th></th>\n",
       "      <th>Year</th>\n",
       "      <th>County</th>\n",
       "      <th>Total Facility Number</th>\n",
       "    </tr>\n",
       "  </thead>\n",
       "  <tbody>\n",
       "    <tr>\n",
       "      <th>0</th>\n",
       "      <td>2012</td>\n",
       "      <td>Albany</td>\n",
       "      <td>432</td>\n",
       "    </tr>\n",
       "    <tr>\n",
       "      <th>1</th>\n",
       "      <td>2012</td>\n",
       "      <td>Bronx</td>\n",
       "      <td>2133</td>\n",
       "    </tr>\n",
       "    <tr>\n",
       "      <th>2</th>\n",
       "      <td>2012</td>\n",
       "      <td>Broome</td>\n",
       "      <td>379</td>\n",
       "    </tr>\n",
       "    <tr>\n",
       "      <th>3</th>\n",
       "      <td>2012</td>\n",
       "      <td>Cattaraugus</td>\n",
       "      <td>162</td>\n",
       "    </tr>\n",
       "    <tr>\n",
       "      <th>4</th>\n",
       "      <td>2012</td>\n",
       "      <td>Cayuga</td>\n",
       "      <td>125</td>\n",
       "    </tr>\n",
       "  </tbody>\n",
       "</table>\n",
       "</div>"
      ],
      "text/plain": [
       "   Year       County  Total Facility Number\n",
       "0  2012       Albany                    432\n",
       "1  2012        Bronx                   2133\n",
       "2  2012       Broome                    379\n",
       "3  2012  Cattaraugus                    162\n",
       "4  2012       Cayuga                    125"
      ]
     },
     "execution_count": 149,
     "metadata": {},
     "output_type": "execute_result"
    }
   ],
   "source": [
    "df_m = df10.loc[:, ['County', 'Total Facility Number']]\n",
    "\n",
    "df11 = df8[df8['Year'] == 2012]\n",
    "df11 = df11.merge(df_m, on='County')\n",
    "df11['Total Facility Number'] = df11['Total Facility Number_x'] + df11['Total Facility Number_y']\n",
    "df11 = df11.loc[:,['Year', 'County', 'Total Facility Number']]\n",
    "\n",
    "df11.head()"
   ]
  },
  {
   "cell_type": "code",
   "execution_count": 150,
   "metadata": {},
   "outputs": [
    {
     "data": {
      "text/html": [
       "<div>\n",
       "<style scoped>\n",
       "    .dataframe tbody tr th:only-of-type {\n",
       "        vertical-align: middle;\n",
       "    }\n",
       "\n",
       "    .dataframe tbody tr th {\n",
       "        vertical-align: top;\n",
       "    }\n",
       "\n",
       "    .dataframe thead th {\n",
       "        text-align: right;\n",
       "    }\n",
       "</style>\n",
       "<table border=\"1\" class=\"dataframe\">\n",
       "  <thead>\n",
       "    <tr style=\"text-align: right;\">\n",
       "      <th></th>\n",
       "      <th>Year</th>\n",
       "      <th>County</th>\n",
       "      <th>Total Facility Number</th>\n",
       "    </tr>\n",
       "  </thead>\n",
       "  <tbody>\n",
       "    <tr>\n",
       "      <th>0</th>\n",
       "      <td>2013</td>\n",
       "      <td>Albany</td>\n",
       "      <td>448</td>\n",
       "    </tr>\n",
       "    <tr>\n",
       "      <th>1</th>\n",
       "      <td>2013</td>\n",
       "      <td>Bronx</td>\n",
       "      <td>2187</td>\n",
       "    </tr>\n",
       "    <tr>\n",
       "      <th>2</th>\n",
       "      <td>2013</td>\n",
       "      <td>Broome</td>\n",
       "      <td>388</td>\n",
       "    </tr>\n",
       "    <tr>\n",
       "      <th>3</th>\n",
       "      <td>2013</td>\n",
       "      <td>Cattaraugus</td>\n",
       "      <td>164</td>\n",
       "    </tr>\n",
       "    <tr>\n",
       "      <th>4</th>\n",
       "      <td>2013</td>\n",
       "      <td>Columbia</td>\n",
       "      <td>119</td>\n",
       "    </tr>\n",
       "  </tbody>\n",
       "</table>\n",
       "</div>"
      ],
      "text/plain": [
       "   Year       County  Total Facility Number\n",
       "0  2013       Albany                    448\n",
       "1  2013        Bronx                   2187\n",
       "2  2013       Broome                    388\n",
       "3  2013  Cattaraugus                    164\n",
       "4  2013     Columbia                    119"
      ]
     },
     "execution_count": 150,
     "metadata": {},
     "output_type": "execute_result"
    }
   ],
   "source": [
    "df_m = df11.loc[:, ['County', 'Total Facility Number']]\n",
    "\n",
    "df12 = df8[df8['Year'] == 2013]\n",
    "df12 = df12.merge(df_m, on='County')\n",
    "df12['Total Facility Number'] = df12['Total Facility Number_x'] + df12['Total Facility Number_y']\n",
    "df12 = df12.loc[:,['Year', 'County', 'Total Facility Number']]\n",
    "\n",
    "df12.head()"
   ]
  },
  {
   "cell_type": "code",
   "execution_count": 151,
   "metadata": {},
   "outputs": [
    {
     "data": {
      "text/html": [
       "<div>\n",
       "<style scoped>\n",
       "    .dataframe tbody tr th:only-of-type {\n",
       "        vertical-align: middle;\n",
       "    }\n",
       "\n",
       "    .dataframe tbody tr th {\n",
       "        vertical-align: top;\n",
       "    }\n",
       "\n",
       "    .dataframe thead th {\n",
       "        text-align: right;\n",
       "    }\n",
       "</style>\n",
       "<table border=\"1\" class=\"dataframe\">\n",
       "  <thead>\n",
       "    <tr style=\"text-align: right;\">\n",
       "      <th></th>\n",
       "      <th>Year</th>\n",
       "      <th>County</th>\n",
       "      <th>Total Facility Number</th>\n",
       "    </tr>\n",
       "  </thead>\n",
       "  <tbody>\n",
       "    <tr>\n",
       "      <th>0</th>\n",
       "      <td>2014</td>\n",
       "      <td>Albany</td>\n",
       "      <td>470</td>\n",
       "    </tr>\n",
       "    <tr>\n",
       "      <th>1</th>\n",
       "      <td>2014</td>\n",
       "      <td>Bronx</td>\n",
       "      <td>2436</td>\n",
       "    </tr>\n",
       "    <tr>\n",
       "      <th>2</th>\n",
       "      <td>2014</td>\n",
       "      <td>Broome</td>\n",
       "      <td>419</td>\n",
       "    </tr>\n",
       "    <tr>\n",
       "      <th>3</th>\n",
       "      <td>2014</td>\n",
       "      <td>Cattaraugus</td>\n",
       "      <td>174</td>\n",
       "    </tr>\n",
       "    <tr>\n",
       "      <th>4</th>\n",
       "      <td>2014</td>\n",
       "      <td>Columbia</td>\n",
       "      <td>135</td>\n",
       "    </tr>\n",
       "  </tbody>\n",
       "</table>\n",
       "</div>"
      ],
      "text/plain": [
       "   Year       County  Total Facility Number\n",
       "0  2014       Albany                    470\n",
       "1  2014        Bronx                   2436\n",
       "2  2014       Broome                    419\n",
       "3  2014  Cattaraugus                    174\n",
       "4  2014     Columbia                    135"
      ]
     },
     "execution_count": 151,
     "metadata": {},
     "output_type": "execute_result"
    }
   ],
   "source": [
    "df_m = df12.loc[:, ['County', 'Total Facility Number']]\n",
    "\n",
    "df13 = df8[df8['Year'] == 2014]\n",
    "df13 = df13.merge(df_m, on='County')\n",
    "df13['Total Facility Number'] = df13['Total Facility Number_x'] + df13['Total Facility Number_y']\n",
    "df13 = df13.loc[:,['Year', 'County', 'Total Facility Number']]\n",
    "\n",
    "df13.head()"
   ]
  },
  {
   "cell_type": "code",
   "execution_count": 152,
   "metadata": {},
   "outputs": [
    {
     "data": {
      "text/html": [
       "<div>\n",
       "<style scoped>\n",
       "    .dataframe tbody tr th:only-of-type {\n",
       "        vertical-align: middle;\n",
       "    }\n",
       "\n",
       "    .dataframe tbody tr th {\n",
       "        vertical-align: top;\n",
       "    }\n",
       "\n",
       "    .dataframe thead th {\n",
       "        text-align: right;\n",
       "    }\n",
       "</style>\n",
       "<table border=\"1\" class=\"dataframe\">\n",
       "  <thead>\n",
       "    <tr style=\"text-align: right;\">\n",
       "      <th></th>\n",
       "      <th>Year</th>\n",
       "      <th>County</th>\n",
       "      <th>Total Facility Number</th>\n",
       "    </tr>\n",
       "  </thead>\n",
       "  <tbody>\n",
       "    <tr>\n",
       "      <th>0</th>\n",
       "      <td>2015</td>\n",
       "      <td>Albany</td>\n",
       "      <td>487</td>\n",
       "    </tr>\n",
       "    <tr>\n",
       "      <th>1</th>\n",
       "      <td>2015</td>\n",
       "      <td>Bronx</td>\n",
       "      <td>2571</td>\n",
       "    </tr>\n",
       "    <tr>\n",
       "      <th>2</th>\n",
       "      <td>2015</td>\n",
       "      <td>Broome</td>\n",
       "      <td>441</td>\n",
       "    </tr>\n",
       "    <tr>\n",
       "      <th>3</th>\n",
       "      <td>2015</td>\n",
       "      <td>Cattaraugus</td>\n",
       "      <td>180</td>\n",
       "    </tr>\n",
       "    <tr>\n",
       "      <th>4</th>\n",
       "      <td>2015</td>\n",
       "      <td>Columbia</td>\n",
       "      <td>143</td>\n",
       "    </tr>\n",
       "  </tbody>\n",
       "</table>\n",
       "</div>"
      ],
      "text/plain": [
       "   Year       County  Total Facility Number\n",
       "0  2015       Albany                    487\n",
       "1  2015        Bronx                   2571\n",
       "2  2015       Broome                    441\n",
       "3  2015  Cattaraugus                    180\n",
       "4  2015     Columbia                    143"
      ]
     },
     "execution_count": 152,
     "metadata": {},
     "output_type": "execute_result"
    }
   ],
   "source": [
    "df_m = df13.loc[:, ['County', 'Total Facility Number']]\n",
    "\n",
    "df14 = df8[df8['Year'] == 2015]\n",
    "df14 = df14.merge(df_m, on='County')\n",
    "df14['Total Facility Number'] = df14['Total Facility Number_x'] + df14['Total Facility Number_y']\n",
    "df14 = df14.loc[:,['Year', 'County', 'Total Facility Number']]\n",
    "\n",
    "df14.head()"
   ]
  },
  {
   "cell_type": "code",
   "execution_count": null,
   "metadata": {},
   "outputs": [],
   "source": [
    "frames = [df9, df10, df11, df12, df13, df14]\n",
    "\n",
    "df15 = pd.concat(frames)\n",
    "df15 = df7.merge(df15, how='inner', on=['Year', 'County'])\n",
    "\n",
    "df15.head()"
   ]
  },
  {
   "cell_type": "markdown",
   "metadata": {},
   "source": [
    "Now that we have our variables we have to control for population. Counties with larger populations will have large numbers for all our variables. We’ll use __[this](https://data.ny.gov/Economic-Development/Broadband-Availability-By-Municipality/sjc6-ftj4)__ to add in the population values for each county. "
   ]
  },
  {
   "cell_type": "code",
   "execution_count": 154,
   "metadata": {},
   "outputs": [
    {
     "data": {
      "text/html": [
       "<div>\n",
       "<style scoped>\n",
       "    .dataframe tbody tr th:only-of-type {\n",
       "        vertical-align: middle;\n",
       "    }\n",
       "\n",
       "    .dataframe tbody tr th {\n",
       "        vertical-align: top;\n",
       "    }\n",
       "\n",
       "    .dataframe thead th {\n",
       "        text-align: right;\n",
       "    }\n",
       "</style>\n",
       "<table border=\"1\" class=\"dataframe\">\n",
       "  <thead>\n",
       "    <tr style=\"text-align: right;\">\n",
       "      <th></th>\n",
       "      <th>Year</th>\n",
       "      <th>County</th>\n",
       "      <th>Crime Rate Per 100000</th>\n",
       "      <th>Opioid Poisoning Deaths</th>\n",
       "      <th>Overall Opioid Rate Per 1000</th>\n",
       "      <th>Total SNAP Persons</th>\n",
       "      <th>Total Unemployment Beneficiaries</th>\n",
       "      <th>Total Block Grant</th>\n",
       "      <th>Total Facility Number</th>\n",
       "      <th>Population</th>\n",
       "    </tr>\n",
       "  </thead>\n",
       "  <tbody>\n",
       "    <tr>\n",
       "      <th>0</th>\n",
       "      <td>2010</td>\n",
       "      <td>Albany</td>\n",
       "      <td>3737.6</td>\n",
       "      <td>15.0</td>\n",
       "      <td>2.978</td>\n",
       "      <td>375465</td>\n",
       "      <td>46000</td>\n",
       "      <td>1251000</td>\n",
       "      <td>412</td>\n",
       "      <td>630588</td>\n",
       "    </tr>\n",
       "    <tr>\n",
       "      <th>1</th>\n",
       "      <td>2011</td>\n",
       "      <td>Albany</td>\n",
       "      <td>3510.1</td>\n",
       "      <td>19.0</td>\n",
       "      <td>1.470</td>\n",
       "      <td>409084</td>\n",
       "      <td>43600</td>\n",
       "      <td>2368842</td>\n",
       "      <td>429</td>\n",
       "      <td>630588</td>\n",
       "    </tr>\n",
       "    <tr>\n",
       "      <th>2</th>\n",
       "      <td>2013</td>\n",
       "      <td>Albany</td>\n",
       "      <td>3087.5</td>\n",
       "      <td>24.0</td>\n",
       "      <td>1.504</td>\n",
       "      <td>445075</td>\n",
       "      <td>37100</td>\n",
       "      <td>816000</td>\n",
       "      <td>448</td>\n",
       "      <td>630588</td>\n",
       "    </tr>\n",
       "    <tr>\n",
       "      <th>3</th>\n",
       "      <td>2014</td>\n",
       "      <td>Albany</td>\n",
       "      <td>2979.2</td>\n",
       "      <td>23.0</td>\n",
       "      <td>2.016</td>\n",
       "      <td>443884</td>\n",
       "      <td>30800</td>\n",
       "      <td>1345000</td>\n",
       "      <td>470</td>\n",
       "      <td>630588</td>\n",
       "    </tr>\n",
       "    <tr>\n",
       "      <th>4</th>\n",
       "      <td>2015</td>\n",
       "      <td>Albany</td>\n",
       "      <td>2799.9</td>\n",
       "      <td>31.0</td>\n",
       "      <td>2.131</td>\n",
       "      <td>440824</td>\n",
       "      <td>26600</td>\n",
       "      <td>600000</td>\n",
       "      <td>487</td>\n",
       "      <td>630588</td>\n",
       "    </tr>\n",
       "  </tbody>\n",
       "</table>\n",
       "</div>"
      ],
      "text/plain": [
       "   Year  County  Crime Rate Per 100000  Opioid Poisoning Deaths  \\\n",
       "0  2010  Albany                 3737.6                     15.0   \n",
       "1  2011  Albany                 3510.1                     19.0   \n",
       "2  2013  Albany                 3087.5                     24.0   \n",
       "3  2014  Albany                 2979.2                     23.0   \n",
       "4  2015  Albany                 2799.9                     31.0   \n",
       "\n",
       "   Overall Opioid Rate Per 1000  Total SNAP Persons  \\\n",
       "0                         2.978              375465   \n",
       "1                         1.470              409084   \n",
       "2                         1.504              445075   \n",
       "3                         2.016              443884   \n",
       "4                         2.131              440824   \n",
       "\n",
       "   Total Unemployment Beneficiaries  Total Block Grant  Total Facility Number  \\\n",
       "0                             46000            1251000                    412   \n",
       "1                             43600            2368842                    429   \n",
       "2                             37100             816000                    448   \n",
       "3                             30800            1345000                    470   \n",
       "4                             26600             600000                    487   \n",
       "\n",
       "   Population  \n",
       "0      630588  \n",
       "1      630588  \n",
       "2      630588  \n",
       "3      630588  \n",
       "4      630588  "
      ]
     },
     "execution_count": 154,
     "metadata": {},
     "output_type": "execute_result"
    }
   ],
   "source": [
    "df16 = pd.read_csv('data8.csv')\n",
    "\n",
    "cols10 = ['2010 Muni Population', 'County']\n",
    "\n",
    "df16 = df16.loc[:, cols10]\n",
    "df16 = pd.pivot_table(df16, index=['County'], aggfunc='sum') \n",
    "df16 = df16.rename(index=str, columns={'2010 Muni Population' : 'Population'})\n",
    "df16 = df16.reset_index()\n",
    "df16 = df15.merge(df16, how='inner', on=['County'])\n",
    "\n",
    "df16.head()"
   ]
  },
  {
   "cell_type": "markdown",
   "metadata": {},
   "source": [
    "Now that we have added the population numbers we can control for population by putting all our variables into rates per 1000 people, standardizing our variables."
   ]
  },
  {
   "cell_type": "code",
   "execution_count": 155,
   "metadata": {},
   "outputs": [
    {
     "data": {
      "text/html": [
       "<div>\n",
       "<style scoped>\n",
       "    .dataframe tbody tr th:only-of-type {\n",
       "        vertical-align: middle;\n",
       "    }\n",
       "\n",
       "    .dataframe tbody tr th {\n",
       "        vertical-align: top;\n",
       "    }\n",
       "\n",
       "    .dataframe thead th {\n",
       "        text-align: right;\n",
       "    }\n",
       "</style>\n",
       "<table border=\"1\" class=\"dataframe\">\n",
       "  <thead>\n",
       "    <tr style=\"text-align: right;\">\n",
       "      <th></th>\n",
       "      <th>Year</th>\n",
       "      <th>County</th>\n",
       "      <th>Opioid Visit Rate Per 1000</th>\n",
       "      <th>Crime Rate Per 1000</th>\n",
       "      <th>Opioid Death Rate per 1000</th>\n",
       "      <th>SNAP Persons per 1000</th>\n",
       "      <th>Unemployment Beneficiaries per 1000</th>\n",
       "      <th>Block Grant Dollars per 1000</th>\n",
       "      <th>Facility Number per 1000</th>\n",
       "    </tr>\n",
       "  </thead>\n",
       "  <tbody>\n",
       "    <tr>\n",
       "      <th>0</th>\n",
       "      <td>2010</td>\n",
       "      <td>Albany</td>\n",
       "      <td>2.978</td>\n",
       "      <td>37.376</td>\n",
       "      <td>0.023787</td>\n",
       "      <td>595.420465</td>\n",
       "      <td>72.947788</td>\n",
       "      <td>1983.862681</td>\n",
       "      <td>0.653358</td>\n",
       "    </tr>\n",
       "    <tr>\n",
       "      <th>1</th>\n",
       "      <td>2011</td>\n",
       "      <td>Albany</td>\n",
       "      <td>1.470</td>\n",
       "      <td>35.101</td>\n",
       "      <td>0.030131</td>\n",
       "      <td>648.734197</td>\n",
       "      <td>69.141817</td>\n",
       "      <td>3756.560543</td>\n",
       "      <td>0.680317</td>\n",
       "    </tr>\n",
       "    <tr>\n",
       "      <th>2</th>\n",
       "      <td>2013</td>\n",
       "      <td>Albany</td>\n",
       "      <td>1.504</td>\n",
       "      <td>30.875</td>\n",
       "      <td>0.038060</td>\n",
       "      <td>705.809498</td>\n",
       "      <td>58.833977</td>\n",
       "      <td>1294.030334</td>\n",
       "      <td>0.710448</td>\n",
       "    </tr>\n",
       "    <tr>\n",
       "      <th>3</th>\n",
       "      <td>2014</td>\n",
       "      <td>Albany</td>\n",
       "      <td>2.016</td>\n",
       "      <td>29.792</td>\n",
       "      <td>0.036474</td>\n",
       "      <td>703.920785</td>\n",
       "      <td>48.843302</td>\n",
       "      <td>2132.929900</td>\n",
       "      <td>0.745336</td>\n",
       "    </tr>\n",
       "    <tr>\n",
       "      <th>4</th>\n",
       "      <td>2015</td>\n",
       "      <td>Albany</td>\n",
       "      <td>2.131</td>\n",
       "      <td>27.999</td>\n",
       "      <td>0.049160</td>\n",
       "      <td>699.068171</td>\n",
       "      <td>42.182852</td>\n",
       "      <td>951.492892</td>\n",
       "      <td>0.772295</td>\n",
       "    </tr>\n",
       "  </tbody>\n",
       "</table>\n",
       "</div>"
      ],
      "text/plain": [
       "   Year  County  Opioid Visit Rate Per 1000  Crime Rate Per 1000  \\\n",
       "0  2010  Albany                       2.978               37.376   \n",
       "1  2011  Albany                       1.470               35.101   \n",
       "2  2013  Albany                       1.504               30.875   \n",
       "3  2014  Albany                       2.016               29.792   \n",
       "4  2015  Albany                       2.131               27.999   \n",
       "\n",
       "   Opioid Death Rate per 1000  SNAP Persons per 1000  \\\n",
       "0                    0.023787             595.420465   \n",
       "1                    0.030131             648.734197   \n",
       "2                    0.038060             705.809498   \n",
       "3                    0.036474             703.920785   \n",
       "4                    0.049160             699.068171   \n",
       "\n",
       "   Unemployment Beneficiaries per 1000  Block Grant Dollars per 1000  \\\n",
       "0                            72.947788                   1983.862681   \n",
       "1                            69.141817                   3756.560543   \n",
       "2                            58.833977                   1294.030334   \n",
       "3                            48.843302                   2132.929900   \n",
       "4                            42.182852                    951.492892   \n",
       "\n",
       "   Facility Number per 1000  \n",
       "0                  0.653358  \n",
       "1                  0.680317  \n",
       "2                  0.710448  \n",
       "3                  0.745336  \n",
       "4                  0.772295  "
      ]
     },
     "execution_count": 155,
     "metadata": {},
     "output_type": "execute_result"
    }
   ],
   "source": [
    "df16['Crime Rate Per 1000'] = df16['Crime Rate Per 100000'] * 0.01\n",
    "df16['Opioid Death Rate per 1000'] = (df16['Opioid Poisoning Deaths'] / df16['Population']) * 1000\n",
    "df16['SNAP Persons per 1000'] = (df16['Total SNAP Persons'] / df16['Population']) * 1000\n",
    "df16['Unemployment Beneficiaries per 1000'] = (df16['Total Unemployment Beneficiaries'] / df16['Population']) * 1000\n",
    "df16['Block Grant Dollars per 1000'] = (df16['Total Block Grant'] / df16['Population']) * 1000\n",
    "df16['Facility Number per 1000'] = (df16['Total Facility Number'] / df16['Population']) * 1000\n",
    "\n",
    "cols11 = ['Year', 'County', 'Overall Opioid Rate Per 1000', 'Crime Rate Per 1000',\n",
    "       'Opioid Death Rate per 1000', 'SNAP Persons per 1000',\n",
    "       'Unemployment Beneficiaries per 1000', 'Block Grant Dollars per 1000',\n",
    "       'Facility Number per 1000']\n",
    "\n",
    "df16 = df16.loc[:, cols11]\n",
    "df16 = df16.rename(index=str, columns={'Overall Opioid Rate Per 1000' : 'Opioid Visit Rate Per 1000'})\n",
    "\n",
    "df16.head()"
   ]
  },
  {
   "cell_type": "code",
   "execution_count": 156,
   "metadata": {},
   "outputs": [],
   "source": [
    "#rename columns to make table easier to work with \n",
    "df = df16.rename(index=str, columns={'Year' : 'year', 'County' : 'county', 'Opioid Visit Rate Per 1000' : 'visits', \n",
    "                                    'Crime Rate Per 1000' : 'crime', 'Opioid Death Rate per 1000' : 'death', \n",
    "                                       'SNAP Persons per 1000' : 'snap', 'Unemployment Beneficiaries per 1000' : 'unemp', \n",
    "                                       'Block Grant Dollars per 1000' : 'grant', 'Facility Number per 1000' : 'fac'})"
   ]
  },
  {
   "cell_type": "markdown",
   "metadata": {},
   "source": [
    "***\n",
    "We can begin to explore the relationship between our variables and see if we can find a correlation between our economic  opportunity and socioeconomic variables and the number of opioid deaths or opioid visits in a county. Lets start by checking the distribution of the data."
   ]
  },
  {
   "cell_type": "code",
   "execution_count": 158,
   "metadata": {},
   "outputs": [
    {
     "data": {
      "image/png": "[encoded data removed]",
      "text/plain": [
       "<matplotlib.figure.Figure at 0x1ddde6fb080>"
      ]
     },
     "metadata": {},
     "output_type": "display_data"
    }
   ],
   "source": [
    "plt.subplot(4, 2, 1)\n",
    "plt.hist(df.visits)\n",
    "plt.title('Distribution of Visit Rates')\n",
    "\n",
    "plt.subplot(4, 2, 2)\n",
    "plt.hist(df.death)\n",
    "plt.title('Distribution of Death Rates')\n",
    "\n",
    "plt.subplot(4, 2, 3)\n",
    "plt.hist(df.crime)\n",
    "plt.title('Distribution of Crime Rates')\n",
    "\n",
    "plt.subplot(4, 2, 4)\n",
    "plt.hist(df.snap)\n",
    "plt.title('Distribution of SNAP Recipient Rates')\n",
    "\n",
    "plt.subplot(4, 2, 5)\n",
    "plt.hist(df.unemp)\n",
    "plt.title('Distribution of Umemployment Recipient Rates')\n",
    "\n",
    "plt.subplot(4, 2, 6)\n",
    "plt.hist(df.unemp)\n",
    "plt.title('Distribution of Block Grant Recipient Rates')\n",
    "\n",
    "plt.subplot(4, 2, 7)\n",
    "plt.hist(df.visits)\n",
    "plt.title('Distribution of Facilities Rates')\n",
    "\n",
    "plt.rcParams['figure.figsize'] = [15, 25]\n",
    "plt.subplots_adjust(hspace=1, wspace=0.75)\n",
    "plt.tight_layout()"
   ]
  },
  {
   "cell_type": "markdown",
   "metadata": {},
   "source": [
    "All of our variables have normal distributions except crime and death rate. Death rate is skewed towards the left and crime rate has one single extreme outlier. Let's check to the row with the extreme outlier for crime rate. "
   ]
  },
  {
   "cell_type": "code",
   "execution_count": 159,
   "metadata": {},
   "outputs": [
    {
     "data": {
      "text/html": [
       "<div>\n",
       "<style scoped>\n",
       "    .dataframe tbody tr th:only-of-type {\n",
       "        vertical-align: middle;\n",
       "    }\n",
       "\n",
       "    .dataframe tbody tr th {\n",
       "        vertical-align: top;\n",
       "    }\n",
       "\n",
       "    .dataframe thead th {\n",
       "        text-align: right;\n",
       "    }\n",
       "</style>\n",
       "<table border=\"1\" class=\"dataframe\">\n",
       "  <thead>\n",
       "    <tr style=\"text-align: right;\">\n",
       "      <th></th>\n",
       "      <th>year</th>\n",
       "      <th>county</th>\n",
       "      <th>visits</th>\n",
       "      <th>crime</th>\n",
       "      <th>death</th>\n",
       "      <th>snap</th>\n",
       "      <th>unemp</th>\n",
       "      <th>grant</th>\n",
       "      <th>fac</th>\n",
       "    </tr>\n",
       "  </thead>\n",
       "  <tbody>\n",
       "    <tr>\n",
       "      <th>95</th>\n",
       "      <td>2010</td>\n",
       "      <td>Schoharie</td>\n",
       "      <td>3.935</td>\n",
       "      <td>193.173</td>\n",
       "      <td>0.0</td>\n",
       "      <td>551.404883</td>\n",
       "      <td>103.4682</td>\n",
       "      <td>18879.587202</td>\n",
       "      <td>0.295623</td>\n",
       "    </tr>\n",
       "  </tbody>\n",
       "</table>\n",
       "</div>"
      ],
      "text/plain": [
       "    year     county  visits    crime  death        snap     unemp  \\\n",
       "95  2010  Schoharie   3.935  193.173    0.0  551.404883  103.4682   \n",
       "\n",
       "           grant       fac  \n",
       "95  18879.587202  0.295623  "
      ]
     },
     "execution_count": 159,
     "metadata": {},
     "output_type": "execute_result"
    }
   ],
   "source": [
    "df[df['crime'] > 150]"
   ]
  },
  {
   "cell_type": "markdown",
   "metadata": {},
   "source": [
    "Having a rate of 193 crimes per 1,000 people is quite high and most likely due to a data entry error in our original data set. Let's drop the value and take a look at the distribution of the data without it. "
   ]
  },
  {
   "cell_type": "code",
   "execution_count": 161,
   "metadata": {},
   "outputs": [
    {
     "data": {
      "image/png": "[encoded data removed]",
      "text/plain": [
       "<matplotlib.figure.Figure at 0x1dde0a15080>"
      ]
     },
     "metadata": {},
     "output_type": "display_data"
    }
   ],
   "source": [
    "df = df[df['crime'] < 150]\n",
    "\n",
    "plt.hist(df.crime)\n",
    "plt.title('Distribution of Crime Rates')\n",
    "plt.rcParams['figure.figsize'] = [5, 5]"
   ]
  },
  {
   "cell_type": "markdown",
   "metadata": {},
   "source": [
    "Without the extreme outlying point in our dataset we can see that our crime rate distribution is also normal. We can create a correlation matrix to get an initial sense of the variables and how strongly they correlate with the visit and death rates. "
   ]
  },
  {
   "cell_type": "code",
   "execution_count": 163,
   "metadata": {},
   "outputs": [
    {
     "data": {
      "image/png": "[encoded data removed]",
      "text/plain": [
       "<matplotlib.figure.Figure at 0x1dddf13d748>"
      ]
     },
     "metadata": {},
     "output_type": "display_data"
    }
   ],
   "source": [
    "corr = df.corr()\n",
    "\n",
    "mask = np.zeros_like(corr, dtype=np.bool)\n",
    "mask[np.triu_indices_from(mask)] = True\n",
    "\n",
    "f, ax = plt.subplots(figsize=(11, 9))\n",
    "\n",
    "cmap = sns.diverging_palette(150, 275, as_cmap=True)\n",
    "\n",
    "g = sns.heatmap(corr, mask=mask, cmap=cmap, vmax=.3, center=0,\n",
    "            square=True, linewidths=.5, cbar_kws={\"shrink\": .5})\n",
    "\n",
    "plt.rcParams['figure.figsize'] = [6, 6]"
   ]
  },
  {
   "cell_type": "markdown",
   "metadata": {},
   "source": [
    "We can see from the correlation matrix above that death rate is correlated with the unemployment beneficiaries rate, SNAP beneficiaries rate, year and crime rate.The visits rate on the other hand has much weaker correlations with other variables. The variable with the strongest correlation to visits rate is facilities rate which is most likely due to the fact that places with more facilities will likely see more visits as well. Death rate is probably a better pick for our dependant variable since it has strong correlations to the other variables than visits rate. \n",
    "***\n",
    "Let’s create a model for our data using linear regression. We can start off by splitting our data into training and testing sets for validation. Then we’ll fit our model to the training set and print out the list of coefficients for our variables. \n"
   ]
  },
  {
   "cell_type": "code",
   "execution_count": 164,
   "metadata": {
    "scrolled": true
   },
   "outputs": [],
   "source": [
    "y = df.death\n",
    "dfm = df.drop(['county', 'death'], axis = 1)\n",
    "\n",
    "x_train, x_test, y_train, y_test = train_test_split(dfm, y, test_size=0.2)\n",
    "\n",
    "lm = LinearRegression()"
   ]
  },
  {
   "cell_type": "code",
   "execution_count": 165,
   "metadata": {},
   "outputs": [
    {
     "data": {
      "text/html": [
       "<div>\n",
       "<style scoped>\n",
       "    .dataframe tbody tr th:only-of-type {\n",
       "        vertical-align: middle;\n",
       "    }\n",
       "\n",
       "    .dataframe tbody tr th {\n",
       "        vertical-align: top;\n",
       "    }\n",
       "\n",
       "    .dataframe thead th {\n",
       "        text-align: right;\n",
       "    }\n",
       "</style>\n",
       "<table border=\"1\" class=\"dataframe\">\n",
       "  <thead>\n",
       "    <tr style=\"text-align: right;\">\n",
       "      <th></th>\n",
       "      <th>features</th>\n",
       "      <th>estimated coefficients</th>\n",
       "    </tr>\n",
       "  </thead>\n",
       "  <tbody>\n",
       "    <tr>\n",
       "      <th>0</th>\n",
       "      <td>year</td>\n",
       "      <td>0.022814</td>\n",
       "    </tr>\n",
       "    <tr>\n",
       "      <th>1</th>\n",
       "      <td>visits</td>\n",
       "      <td>0.011193</td>\n",
       "    </tr>\n",
       "    <tr>\n",
       "      <th>2</th>\n",
       "      <td>crime</td>\n",
       "      <td>0.004022</td>\n",
       "    </tr>\n",
       "    <tr>\n",
       "      <th>3</th>\n",
       "      <td>snap</td>\n",
       "      <td>0.000127</td>\n",
       "    </tr>\n",
       "    <tr>\n",
       "      <th>4</th>\n",
       "      <td>unemp</td>\n",
       "      <td>-0.001280</td>\n",
       "    </tr>\n",
       "    <tr>\n",
       "      <th>5</th>\n",
       "      <td>grant</td>\n",
       "      <td>0.000003</td>\n",
       "    </tr>\n",
       "    <tr>\n",
       "      <th>6</th>\n",
       "      <td>fac</td>\n",
       "      <td>-0.045645</td>\n",
       "    </tr>\n",
       "  </tbody>\n",
       "</table>\n",
       "</div>"
      ],
      "text/plain": [
       "  features  estimated coefficients\n",
       "0     year                0.022814\n",
       "1   visits                0.011193\n",
       "2    crime                0.004022\n",
       "3     snap                0.000127\n",
       "4    unemp               -0.001280\n",
       "5    grant                0.000003\n",
       "6      fac               -0.045645"
      ]
     },
     "execution_count": 165,
     "metadata": {},
     "output_type": "execute_result"
    }
   ],
   "source": [
    "m = lm.fit(x_train, y_train)\n",
    "p = lm.predict(x_test)\n",
    "\n",
    "pd.DataFrame({'features': dfm.columns, 'estimated coefficients': lm.coef_})[['features', 'estimated coefficients']]"
   ]
  },
  {
   "cell_type": "markdown",
   "metadata": {},
   "source": [
    "We can check how well our model fits by graphing out the predicted values against the actual values. "
   ]
  },
  {
   "cell_type": "code",
   "execution_count": 166,
   "metadata": {},
   "outputs": [
    {
     "data": {
      "text/plain": [
       "Text(0,0.5,'Predicted Values')"
      ]
     },
     "execution_count": 166,
     "metadata": {},
     "output_type": "execute_result"
    },
    {
     "data": {
      "image/png": "[encoded data removed]",
      "text/plain": [
       "<matplotlib.figure.Figure at 0x1ddde879668>"
      ]
     },
     "metadata": {},
     "output_type": "display_data"
    }
   ],
   "source": [
    "plt.scatter(y_test, p)\n",
    "plt.xlabel('Actual Values')\n",
    "plt.ylabel('Predicted Values')"
   ]
  },
  {
   "cell_type": "markdown",
   "metadata": {},
   "source": [
    "Looking at the scatterplot above we can see that many of the points seem to be around the line y = x. We can calculated the R-squared value of our plot to get a quantitative idea about how well our model fits and how much of the variation can be attributed to the model. "
   ]
  },
  {
   "cell_type": "code",
   "execution_count": 167,
   "metadata": {},
   "outputs": [
    {
     "name": "stdout",
     "output_type": "stream",
     "text": [
      "0.5982641504574718\n"
     ]
    }
   ],
   "source": [
    "print(m.score(x_test, y_test))"
   ]
  },
  {
   "cell_type": "markdown",
   "metadata": {},
   "source": [
    "Our R-squared score tells us that our model can predict about 60% of the variance in our dependant value. We can test out other modeling algorithms to see if any of them perform better. We'll start by fitting a deicision tree regressor to our data and comparing it to our linear regression model."
   ]
  },
  {
   "cell_type": "code",
   "execution_count": 168,
   "metadata": {},
   "outputs": [
    {
     "data": {
      "text/plain": [
       "<Container object of 7 artists>"
      ]
     },
     "execution_count": 168,
     "metadata": {},
     "output_type": "execute_result"
    },
    {
     "data": {
      "image/png": "[encoded data removed]",
      "text/plain": [
       "<matplotlib.figure.Figure at 0x1dddf1d8ef0>"
      ]
     },
     "metadata": {},
     "output_type": "display_data"
    }
   ],
   "source": [
    "dtr = DecisionTreeRegressor()\n",
    "\n",
    "m2 = dtr.fit(x_train, y_train)\n",
    "p2 = dtr.predict(x_test)\n",
    "\n",
    "feat = pd.DataFrame({'features': dfm.columns, 'feature importance': dtr.feature_importances_})\n",
    "\n",
    "plt.bar(feat['features'], feat['feature importance'])"
   ]
  },
  {
   "cell_type": "markdown",
   "metadata": {},
   "source": [
    "We can look at the bar above of the various features to understand their importance to our model. The feature importance measurements lets us know the error introduced into the model without the variable. From looking at the bar graph we can see the same variables contributed more significantly to our decision tree regression as to our linear regression: visit rate, facility rate, and year. There is a difference though for crime rate, SNAP rate, unemployment and grant rate's relative values between the two models. This isn’t a perfect comparison however since we’re looking at two different types of metrics. Let's take a look at performance of this model on our test data."
   ]
  },
  {
   "cell_type": "code",
   "execution_count": 169,
   "metadata": {},
   "outputs": [
    {
     "data": {
      "text/plain": [
       "Text(0,0.5,'Predicted Values')"
      ]
     },
     "execution_count": 169,
     "metadata": {},
     "output_type": "execute_result"
    },
    {
     "data": {
      "image/png": "[encoded data removed]",
      "text/plain": [
       "<matplotlib.figure.Figure at 0x1dddeea0b70>"
      ]
     },
     "metadata": {},
     "output_type": "display_data"
    }
   ],
   "source": [
    "plt.scatter(y_test, p2)\n",
    "plt.xlabel('Actual Values')\n",
    "plt.ylabel('Predicted Values')"
   ]
  },
  {
   "cell_type": "code",
   "execution_count": 170,
   "metadata": {},
   "outputs": [
    {
     "name": "stdout",
     "output_type": "stream",
     "text": [
      "0.4385951285371835\n"
     ]
    }
   ],
   "source": [
    "print(m2.score(x_test, y_test))"
   ]
  },
  {
   "cell_type": "markdown",
   "metadata": {},
   "source": [
    "The R-squared value for our decision tree regressor is lower than our linear regression. We can try to remodel our data with a random forest regressor to see if that performs better. Random forest takes an average of an aggregation of different decision trees to create a model and tends to perform better. "
   ]
  },
  {
   "cell_type": "code",
   "execution_count": 171,
   "metadata": {},
   "outputs": [
    {
     "data": {
      "text/plain": [
       "<Container object of 7 artists>"
      ]
     },
     "execution_count": 171,
     "metadata": {},
     "output_type": "execute_result"
    },
    {
     "data": {
      "image/png": "[encoded data removed]",
      "text/plain": [
       "<matplotlib.figure.Figure at 0x1dddefd7c50>"
      ]
     },
     "metadata": {},
     "output_type": "display_data"
    }
   ],
   "source": [
    "rfr = RandomForestRegressor()\n",
    "\n",
    "m3 = rfr.fit(x_train, y_train)\n",
    "p3 = rfr.predict(x_test)\n",
    "\n",
    "feat2 = pd.DataFrame({'features': dfm.columns, 'feature importance': dtr.feature_importances_})\n",
    "\n",
    "plt.bar(feat2['features'], feat2['feature importance'])"
   ]
  },
  {
   "cell_type": "markdown",
   "metadata": {},
   "source": [
    "We can see from the bar graph above that order for which features were most important is almost identical to the decision tree regression model except that crime was second to last and unemployment was last whereas the reverse is true of our fores regressor. Let’s create our scatter plot and calculate our R-squared value to compare this to our other two models. "
   ]
  },
  {
   "cell_type": "code",
   "execution_count": 172,
   "metadata": {},
   "outputs": [
    {
     "data": {
      "text/plain": [
       "Text(0,0.5,'Predicted Values')"
      ]
     },
     "execution_count": 172,
     "metadata": {},
     "output_type": "execute_result"
    },
    {
     "data": {
      "image/png": "[encoded data removed]",
      "text/plain": [
       "<matplotlib.figure.Figure at 0x1dde09d7d68>"
      ]
     },
     "metadata": {},
     "output_type": "display_data"
    }
   ],
   "source": [
    "plt.scatter(y_test, p3)\n",
    "plt.xlabel('Actual Values')\n",
    "plt.ylabel('Predicted Values')"
   ]
  },
  {
   "cell_type": "code",
   "execution_count": 173,
   "metadata": {},
   "outputs": [
    {
     "name": "stdout",
     "output_type": "stream",
     "text": [
      "0.4969928946152287\n"
     ]
    }
   ],
   "source": [
    "print(m3.score(x_test, y_test))"
   ]
  },
  {
   "cell_type": "markdown",
   "metadata": {},
   "source": [
    "Our random forest regressor has only a marginally higher R-squared than our decision tree regressor. Our random forest regressor explains about 50% of the variance in our data compared to the 44% explained by our decision tree. Random forest regression tends to model data better than linear regression except in a few cases. The fact that our linear regression model is performing better probably means there is a smooth linear relationship between our variables. We can also try a gradient boosting regression model to compare to our other decision tree models."
   ]
  },
  {
   "cell_type": "code",
   "execution_count": 174,
   "metadata": {},
   "outputs": [
    {
     "data": {
      "text/plain": [
       "<Container object of 7 artists>"
      ]
     },
     "execution_count": 174,
     "metadata": {},
     "output_type": "execute_result"
    },
    {
     "data": {
      "image/png": "[encoded data removed]",
      "text/plain": [
       "<matplotlib.figure.Figure at 0x1dddec52048>"
      ]
     },
     "metadata": {},
     "output_type": "display_data"
    }
   ],
   "source": [
    "gbr = GradientBoostingRegressor()\n",
    "\n",
    "m4 = gbr.fit(x_train, y_train)\n",
    "p4 = gbr.predict(x_test)\n",
    "\n",
    "feat3 = pd.DataFrame({'features': dfm.columns, 'feature importance': gbr.feature_importances_})\n",
    "\n",
    "plt.bar(feat3['features'], feat3['feature importance'])"
   ]
  },
  {
   "cell_type": "markdown",
   "metadata": {},
   "source": [
    "Gradient boosting regression builds decision trees by adding new one incrementally to adjust for the errors found in the preceding trees. Above we can see that we get different values for feature importance by doing so and year becomes much less important in this model than the other ones. We can create our scatter plot of actual and predicted values then calculate the R-squared for our new model to see how it compares to our other models. "
   ]
  },
  {
   "cell_type": "code",
   "execution_count": 175,
   "metadata": {},
   "outputs": [
    {
     "data": {
      "text/plain": [
       "Text(0,0.5,'Predicted Values')"
      ]
     },
     "execution_count": 175,
     "metadata": {},
     "output_type": "execute_result"
    },
    {
     "data": {
      "image/png": "[encoded data removed]",
      "text/plain": [
       "<matplotlib.figure.Figure at 0x1dddf0286d8>"
      ]
     },
     "metadata": {},
     "output_type": "display_data"
    }
   ],
   "source": [
    "plt.scatter(y_test, p4)\n",
    "plt.xlabel('Actual Values')\n",
    "plt.ylabel('Predicted Values')"
   ]
  },
  {
   "cell_type": "code",
   "execution_count": 176,
   "metadata": {},
   "outputs": [
    {
     "name": "stdout",
     "output_type": "stream",
     "text": [
      "0.6645348548311623\n"
     ]
    }
   ],
   "source": [
    "print(m4.score(x_test, y_test))"
   ]
  },
  {
   "cell_type": "markdown",
   "metadata": {},
   "source": [
    "Our gradient boosting regressor has the best R-squared score of our four models and explains about 66% of the variance in our independent variable. R-squared is not a perfect measure of how well a model fits and can be misleading for models when the underlying data needs a model that fits a shape that isn’t linear. Our data most likely has a smooth linear shape however due to the higher R-squared score for our linear regression in comparison to our random forest regression. Gradient boosting models also have a tendency to overfit and not work as well when there’s a lot of noise in our data which can limit its predictive usefulness. Though we used a testing sample we would need to check our gradient boosting model against future data to see how well it continues to hold up. \n",
    "***\n",
    "Though our models have some predictive value they can be improved by collecting better data that will actually more directly measure the variables we are interested in. Data about the average income of each county, the county budget or amount of funding it receives from the state and federal government, the amount of people who are insured, the total number of people who are unemployed not just the number receiving unemployment benefits would help us determine much more directly if there is a correlation between opioid abuse rates and limited economic opportunity and poverty. Currently I could not find that data available on the NY open data site.  "
   ]
  },
  {
   "cell_type": "markdown",
   "metadata": {},
   "source": [
    "As the opioid crisis in the United States continues to be a serious issue predicting which places may be most likely to see spikes in opioid deaths and opioid related hospital visits is crucial to make the most of the limited funds available for public health programs. From our models we do see a link between variables related to socioeconomic status and government investment have some correlation to the incidence of opioid abuse. This link has been found in many previous studies conducted into the underlying factors contributing to the crisis. Even though our economy is currently going well there is bound to be a correction at some point __[(8)](https://www.cnbc.com/2018/07/31/morgan-stanley-we-think-a-coming-correction-will-be-biggest-since-fe.html)__. There has also been growing deregulation lately which is what caused the previous market crash. If a crash does take place in the near future knowing which places will face the worst of the downturn can also help us take provisional steps to ensure that anyplace seeing an increase in opioid abuse has the proper resources to deal with it."
   ]
  }
 ],
 "metadata": {
  "kernelspec": {
   "display_name": "Python 3",
   "language": "python",
   "name": "python3"
  },
  "language_info": {
   "codemirror_mode": {
    "name": "ipython",
    "version": 3
   },
   "file_extension": ".py",
   "mimetype": "text/x-python",
   "name": "python",
   "nbconvert_exporter": "python",
   "pygments_lexer": "ipython3",
   "version": "3.6.4"
  }
 },
 "nbformat": 4,
 "nbformat_minor": 2
}
