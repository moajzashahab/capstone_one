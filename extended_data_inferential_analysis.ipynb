{
 "cells": [
  {
   "cell_type": "markdown",
   "metadata": {},
   "source": [
    "We know that a difference exists in the number per 1000 visits which are due to opiods between rural and urban counties in New York. Does the number of health facilities in the county relate to the number of visits due to opiods in that county?"
   ]
  },
  {
   "cell_type": "code",
   "execution_count": 263,
   "metadata": {},
   "outputs": [],
   "source": [
    "import pandas as pd \n",
    "import numpy as np\n",
    "\n",
    "df = pd.read_csv('data.csv')\n",
    "\n",
    "cols = ['Year', 'Patient County Name', 'Rural/Urban', 'Inpatient Total Opioid', 'Inpatient Total Rate Per 1000 ', \n",
    "        'Other Outpatient Total Opioid', 'Other Outpatient Total Rate Per 1000', 'Overall Opioid', 'Overall Rate Per 1000']\n",
    "\n",
    "df = df.loc[:, cols]\n",
    "\n",
    "df = df.pivot_table(df, index=['Rural/Urban', 'Year', 'Patient County Name'], aggfunc='sum')"
   ]
  },
  {
   "cell_type": "code",
   "execution_count": 264,
   "metadata": {},
   "outputs": [],
   "source": [
    "df2 = pd.read_csv('datasettwo.csv')\n",
    "\n",
    "cols2 = ['Facility ID', 'Description', 'Facility Open Date', 'Facility County']\n",
    "df2 = df2.loc[:, cols2]\n",
    "\n",
    "df2['Facility Open Date'] = pd.to_datetime(df2['Facility Open Date'], yearfirst=True)\n",
    "df2 = df2[df2['Facility Open Date'] < '2016']\n",
    "\n",
    "cols3 = ['Facility ID', 'Description', 'Facility County']\n",
    "df2 = df2.loc[:, cols3]\n",
    "\n",
    "df2 = df2.pivot_table(df2, index=['Facility County', 'Description',], aggfunc='count')\n",
    "df2.rename(columns={'Facility ID':'Facility Count'}, inplace=True)"
   ]
  },
  {
   "cell_type": "markdown",
   "metadata": {},
   "source": [
    "Now that we've cleaned the two datasets we can combine the health center information with the visit number information. Hypothetically we should see a negative correlation between the number of health facilities and the number of opioid related health visits."
   ]
  },
  {
   "cell_type": "code",
   "execution_count": 265,
   "metadata": {},
   "outputs": [
    {
     "data": {
      "image/png": "[encoded data removed]",
      "text/plain": [
       "<matplotlib.figure.Figure at 0x2151ce8ea20>"
      ]
     },
     "metadata": {},
     "output_type": "display_data"
    },
    {
     "name": "stdout",
     "output_type": "stream",
     "text": [
      "(-0.24398015513060706, 0.06494321396127745)\n"
     ]
    }
   ],
   "source": [
    "import matplotlib.pyplot as plt\n",
    "import scipy.stats as stats\n",
    "\n",
    "df5 = df.reset_index()\n",
    "df5 = df5.pivot_table(df5, index=['Rural/Urban', 'Patient County Name'], aggfunc='sum')\n",
    "df5 = df5.drop(columns='Year')\n",
    "df5 = df5.reset_index()\n",
    "df5 = df5.set_index('Patient County Name')\n",
    "\n",
    "df4 = df2.reset_index()\n",
    "df4 = df4.pivot_table(df4, index='Facility County', aggfunc='count')\n",
    "df4 = df4.drop(columns='Description')\n",
    "\n",
    "df5 = df5.join(df4)\n",
    "df5 = df5.dropna(axis=0, how='any')\n",
    "\n",
    "plt.bar(df5['Facility Count'], df5['Overall Rate Per 1000'], color='red')\n",
    "plt.show()\n",
    "\n",
    "print(stats.pearsonr(df5['Facility Count'], df5['Overall Rate Per 1000']))"
   ]
  },
  {
   "cell_type": "markdown",
   "metadata": {},
   "source": [
    "We see that there is only a negligible correlation between the number of health facilities and the overall rate of visits related to opiods. There for our hypothesis does not hold up. We still want to examine the numbers for rural versus urban counties though. "
   ]
  },
  {
   "cell_type": "code",
   "execution_count": 266,
   "metadata": {},
   "outputs": [
    {
     "name": "stdout",
     "output_type": "stream",
     "text": [
      "Ttest_indResult(statistic=-2.20935249480226, pvalue=0.03125683505392438)\n",
      "Ttest_indResult(statistic=0.6293496660875182, pvalue=0.5316793717213909)\n",
      "(-0.37224452892614607, 0.08026396197344915)\n",
      "(-0.1260459475483209, 0.4706010492440983)\n"
     ]
    }
   ],
   "source": [
    "drural = df5[df5['Rural/Urban'] == 'Rural']\n",
    "durban = df5[df5['Rural/Urban'] == 'Urban']\n",
    "\n",
    "print(stats.ttest_ind(drural['Facility Count'], durban['Facility Count']))\n",
    "print(stats.ttest_ind(drural['Overall Rate Per 1000'], durban['Overall Rate Per 1000']))\n",
    "\n",
    "print(stats.pearsonr(drural['Facility Count'], drural['Overall Rate Per 1000']))\n",
    "print(stats.pearsonr(durban['Facility Count'], durban['Overall Rate Per 1000']))"
   ]
  },
  {
   "cell_type": "markdown",
   "metadata": {},
   "source": [
    "Last time we did not check to see whether or not the difference in the number of opioid visits per thousand between urban and rural counties was significant. When we do so now we see that there is moderate amounts of difference between the rates. The p-value is 0.5 however which is much higher than we want for reliable testing. We also do a t-test for health facilities in rural versus urban counties. This time we do get a significant difference, with there being a difference of -2 between the number of rural and urban health facilities. The p-value here is 0.03 which makes this result significant. \n",
    "\n",
    "There is no clear difference in visit rate between rural and urban counties but there is a statistically significant difference in the number of health facilities between rural and urban counties. The correlation between the number of facilities and the number of visits isn’t significant for either rural or urban counties. There is a higher correlation between the number of facilities and the number of visits for rural counties than there is for urban counties. \n",
    "\n",
    "The hypothesis that the number of visits related to opiods is negatively correlated to the number of health facilities in a county is therefore not correct. The fact that the kind of health facility it was was not controlled for may be the reason we could not find a correlation. There were descriptions for the kind of facilities that are but not for the kind of services offered. There was no way to filter out the ones that offer resources for substance abuse reliably. I should look through the open data website for New York state and see if there are datasets with the number of facilities offering substance abuse resources and rerun the analysis.\n"
   ]
  }
 ],
 "metadata": {
  "kernelspec": {
   "display_name": "Python 3",
   "language": "python",
   "name": "python3"
  },
  "language_info": {
   "codemirror_mode": {
    "name": "ipython",
    "version": 3
   },
   "file_extension": ".py",
   "mimetype": "text/x-python",
   "name": "python",
   "nbconvert_exporter": "python",
   "pygments_lexer": "ipython3",
   "version": "3.6.4"
  }
 },
 "nbformat": 4,
 "nbformat_minor": 2
}
